{
 "cells": [
  {
   "cell_type": "markdown",
   "metadata": {},
   "source": [
    "# Laboratorio Estadística Computacional\n",
    "\n",
    "    - Pablo Mera K. 201773028-5\n",
    "    - Paula Pérez M. 201603022-0\n",
    "    - Anghelo Carvajal C. 201473062-4"
   ]
  },
  {
   "cell_type": "code",
   "execution_count": 2,
   "metadata": {},
   "outputs": [],
   "source": [
    "import numpy as np\n",
    "import seaborn as sns\n",
    "import pandas as pd\n",
    "import matplotlib.pyplot as plt"
   ]
  },
  {
   "cell_type": "markdown",
   "metadata": {},
   "source": [
    "### Actividad 1 Demostración experimental"
   ]
  },
  {
   "cell_type": "markdown",
   "metadata": {},
   "source": [
    "### Pregunta 1:"
   ]
  },
  {
   "cell_type": "code",
   "execution_count": 2,
   "metadata": {},
   "outputs": [
    {
     "name": "stdout",
     "output_type": "stream",
     "text": [
      "0.0\n",
      "0.0\n",
      "0.029\n",
      "0.0284\n",
      "0.02727\n",
      "0.027861\n",
      "0.0278242\n",
      "0.02778729\n"
     ]
    },
    {
     "data": {
      "image/png": "[encoded data removed]",
      "text/plain": [
       "<Figure size 432x288 with 1 Axes>"
      ]
     },
     "metadata": {},
     "output_type": "display_data"
    },
    {
     "data": {
      "image/png": "[encoded data removed]",
      "text/plain": [
       "<Figure size 432x288 with 1 Axes>"
      ]
     },
     "metadata": {},
     "output_type": "display_data"
    }
   ],
   "source": [
    "dado = [1,2,3,4,5,6]                                                            #Lista con los numeros de un dado\n",
    "probexp= []                                                                     #Lista vacia para guardar las probabilidades\n",
    "error=[]                                                                        #Lista vacia para guardar los errores                                              \n",
    "rep = [1,2,3,4,5,6,7,8]                                                           #Lista Con los ordenes de magnitud para efectuar la simulacion\n",
    "\n",
    "for n in rep:                                                                   #Iteracion Para cada orden de magnitud\n",
    "    contador=0                                                                  #Contador que registra los pares de 6\n",
    "    for i in range(10**n):                                                      #Iteracion por lanzamiento de dados\n",
    "        aux=np.random.choice(dado,2)                                            #Escojer un numero al azar de la lista dados, 2 veces\n",
    "        if list(aux) == [6,6]:                                                  #Si es par de 6, sumar 1 al contador\n",
    "            contador+=1\n",
    "    print(float(contador)/10**n)                                                \n",
    "    probexp.append(float(contador)/10**n)                                       #Agregar resultado de la frecuencia\n",
    "    error.append(abs(float(contador)/10**n - 1/36))                             #Agregar resultado de el error\n",
    " \n",
    "plt.plot(rep,probexp,'bo')                                                      #Graficar las frecuencias\n",
    "plt.show()\n",
    "plt.plot(rep,error,'bo')                                                        #Graficar los errores\n",
    "plt.show()\n",
    "\n"
   ]
  },
  {
   "cell_type": "markdown",
   "metadata": {},
   "source": [
    "### Pregunta 2:\n",
    " - Si se tiene una infinita cantidad de muestras es posible generar una tendencia que sea altamente representativa para un suceso determinado.\n",
    " - Sería muy poco probable que no apareciera ningún par de 6 en toda la simulación, pero si esto sucediera habría una diferencia entre la probabilidad teórica y la experimental, lo que generaría una alteración en la distribución de los datos.\n",
    " - La probabilidad teórica y experimental son muy cercanas, por lo tanto, como el error es mínimo en este caso el supuesto se cumple."
   ]
  },
  {
   "cell_type": "markdown",
   "metadata": {},
   "source": [
    "### Pregunta 3:"
   ]
  },
  {
   "cell_type": "markdown",
   "metadata": {},
   "source": [
    "#### Parte 1:"
   ]
  },
  {
   "cell_type": "code",
   "execution_count": 3,
   "metadata": {},
   "outputs": [
    {
     "name": "stdout",
     "output_type": "stream",
     "text": [
      "0.318944\n",
      "0.24371\n",
      "0.088235\n"
     ]
    }
   ],
   "source": [
    "cont = 0                                                                        #Contador para las iteraciones que cumplen las condiciones\n",
    "for j in range(10**6):                                                          #iterar un millon de veces, para asegurar un buen resultado\n",
    "    aux=np.random.choice(dado,5)                                                #Escojer un numero al azar de la lista dados, 5 veces\n",
    "    caux1 = 0                                                                   #Variable para guardar cantidad de pares \n",
    "    caux2 = 0                                                                   #Variable para ver si hay escala\n",
    "    for i in list(np.bincount(aux)):                                            #Se aplica bincount a la lista, y se itera en el resultado\n",
    "        if i == 2:                                                              #si hay un par se suma uno al contador de pares\n",
    "            caux1+=1\n",
    "        elif i == 3:                                                            #si hay un trio se marca la variable de trios\n",
    "            caux2+=1\n",
    "        elif i == 4:                                                            #Si hay 4 iguales, se suma 2 al contador de pares\n",
    "            caux=2\n",
    "        elif i == 5:                                                            #Si hay 5 iguales, se marca el trio y se suma un par\n",
    "            caux1=1\n",
    "            caux2=1\n",
    "        \n",
    "    if (caux1 == caux2 == 1)or(caux1 == 2)or((caux1 == caux2 == 0)\n",
    "            and (not(1 in aux) or not(6 in aux))) :                             #Luego se evaluan las condiciones, par y trio, 2 pares, y escala donde ambos son 0(Se concidera escala que da vuelta)\n",
    "       cont+=1\n",
    "       \n",
    "print (cont/10**6)"
   ]
  },
  {
   "cell_type": "markdown",
   "metadata": {},
   "source": [
    "#### Parte 2 y 3:"
   ]
  },
  {
   "cell_type": "code",
   "execution_count": 13,
   "metadata": {},
   "outputs": [
    {
     "name": "stdout",
     "output_type": "stream",
     "text": [
      "0.244138\n",
      "0.088392\n"
     ]
    }
   ],
   "source": [
    "dado = [1,2,3,4,5,6] \n",
    "primos = [11,13,17,19,23,29,31,37,41,43,47,53,59]                               #Lista con los primos entre 10 y 60\n",
    "perfect = [16,25,36,49]                                                         #Lista con los cuadrados perfectos entre 10 y 60\n",
    "cont1 = 0                                                                       #Contador para primos\n",
    "cont2 = 0                                                                       #Contador para cuadrados perfectos\n",
    "for i in range(10**6):\n",
    "    aux=np.random.choice(dado,10)                                               #Escojer un numero al azar de la lista dados, 10 veces\n",
    "    if sum(aux) in primos:                                                      #aumentar cont1 si la suma de los dados escojidos se encuntra en la lista primos \n",
    "        cont1+=1    \n",
    "    if sum(aux) in perfect:                                                     #aumentar cont2 si la suma de los dados escojidos se encuntra en la lista de cuadrados perfectos\n",
    "        cont2+=1\n",
    "print (cont1/10**6)\n",
    "print (cont2/10**6)"
   ]
  },
  {
   "cell_type": "markdown",
   "metadata": {},
   "source": [
    "### Actividad 2 - Heart Disease UCI "
   ]
  },
  {
   "cell_type": "markdown",
   "metadata": {},
   "source": [
    "### Pregunta 1:\n",
    "\n",
    "\n",
    "$P(A \\cap B)= P(A)P(B|A)$\n",
    "\n",
    "$P(A \\cap B)= P(B)P(A|B)$\n",
    "\n",
    "$P(B)P(A|B)=P(A)P(B|A)$\n",
    "\n",
    "$P(A|B)= \\frac{P(A)P(B|A)}{P(B)}$\n",
    "\n",
    "#### Demostración simlificación del teorema:\n",
    "\n",
    "$P(y)P(x_1,...,X_n|y)$\n",
    "\n",
    "$P(y)P(x_1|y)P(x_2,...,x_n|y, x_i)$\n",
    "\n",
    "$P(y)P(x_1|y)P(x_2|y, x_1) P(x_3,...,x_n|y, x_1, x_2)$\n",
    "\n",
    "##### Y así sucesivamente... luego por independencia:\n",
    "\n",
    "$P(x_2|y, x_1) = P(x_2|y)$\n",
    "\n",
    "\n",
    "##### Finalmente se llega a la expresión:\n",
    "\n",
    "$P(y)P(x_1|y)P(x_2|y)P(x_3|y)...P(x_n|y)$\n",
    "\n",
    "$P(y) \\Pi_{i=1}^{n} P(x_i|y)$\n",
    "\n",
    "##### Luego reemplazando en Bayes:\n",
    "\n",
    "$P(y|x_1,...,x_n) = P(y) \\Pi_{i=1}^{n} \\frac{P(x_i|y)}{P(x_1,..., x_n}$\n"
   ]
  },
  {
   "cell_type": "markdown",
   "metadata": {},
   "source": [
    "### Pregunta 2"
   ]
  },
  {
   "cell_type": "code",
   "execution_count": 5,
   "metadata": {},
   "outputs": [],
   "source": [
    "dataset = pd.read_csv(\"LEC2_dataset.csv\")"
   ]
  },
  {
   "cell_type": "markdown",
   "metadata": {},
   "source": [
    " - Defina su priori o creencia inicial, explique en que se bas ́o para utilizar esta probabilidad."
   ]
  },
  {
   "cell_type": "code",
   "execution_count": 14,
   "metadata": {},
   "outputs": [
    {
     "name": "stdout",
     "output_type": "stream",
     "text": [
      "P(infarto = si) = 0.5445544554455446\n"
     ]
    }
   ],
   "source": [
    "infartos = dataset[\"target\"]                                                    #se extrae los datos de casos de infarto\n",
    "prob_infarto = sum(infartos) / len(infartos)                                    #Ya que estos vienen en 1 o 0, solo es necesario sumarlos todos, y luego dividirlo en su largo\n",
    "print(\"P(infarto = si) = \" +str(prob_infarto))                                       #Obteniendo asi la probabilidad inicial de que de un infarto\n",
    "                        \n",
    "prob_A = prob_infarto                                                           #Variable para guardad la priori"
   ]
  },
  {
   "cell_type": "markdown",
   "metadata": {},
   "source": [
    " - Escriba la expresión simplificada denaive bayespara este caso particular.\n",
    " \n",
    "$P(infarto | sexo, edad, dolorPecho, presionSanguinea) = P(infarto) * \\frac{P(sexo, edad, dolorPecho, presionSanguinea | infarto)}{P(sexo, edad, dolorPecho, presionSanguinea)}$\n"
   ]
  },
  {
   "cell_type": "markdown",
   "metadata": {},
   "source": [
    " - Utilizandosolo las personas del hospital 1, calcule la probabilidad de cada caracter ́ısticaxisea igual a la del paciente."
   ]
  },
  {
   "cell_type": "code",
   "execution_count": 15,
   "metadata": {},
   "outputs": [
    {
     "name": "stdout",
     "output_type": "stream",
     "text": [
      "P(sexo = f) = 0.32673267326732675\n",
      "P(edad = 40's) = 0.19801980198019803\n",
      "P(cp = atypical angina) = 0.16831683168316833\n",
      "P(fbs <=120) = 0.8811881188118812\n",
      "0.009596157523936508\n"
     ]
    }
   ],
   "source": [
    "paciente = [\"f\",\"40's\",\"atypical angina\",\"<=120\"]\n",
    "\n",
    "hospital1 = dataset[dataset[\"hospital\"] == 1]                                   #Se filtran los datos del primer hospital                             \n",
    "sexo = hospital1[hospital1[\"sex\"]  == paciente[0]]   \n",
    "edad = hospital1[hospital1[\"age_range\"]  == paciente[1]]\n",
    "dolor = hospital1[hospital1[\"cp\"]  == paciente[2]]  \n",
    "presion = hospital1[hospital1[\"fbs\"]  == paciente[3]]    \n",
    "                                                  \n",
    "prob_sexo = len(sexo) / len(hospital1)                                           #Se toma el total de mujeres y se divide en el total de pacientes\n",
    "print(\"P(sexo = \"+ paciente[0] +\") = \"+str(prob_sexo))                                          #Obteniendo la probabilidad de que un paciente se mujer\n",
    "\n",
    "prob_edad = len(edad) / len(hospital1)                                           #Se toma la cantidad de pacientes con edad = 40, y se divide con el total de pacientes\n",
    "print(\"P(edad = \"+ paciente[1] +\") = \"+str(prob_edad))                         #Obteniendo asi la probabilidad de que un paciente tenga 40 anos\n",
    "\n",
    "prob_dolor = len(dolor) / len(hospital1)                                       #Se toma el total de personas con cp = atypical angina y se divide con el total de pacientes \n",
    "print(\"P(cp = \"+ paciente[2] +\") = \"+ str(prob_dolor))                         #Obteniendo asi la probabilidad de que un paciente tenga el dolor de atypical angina\n",
    "                                                                                 #Se toma la columna fbs\n",
    "prob_presion = len(presion) / len(hospital1)                                   #Se toma el total de personas con fbs <= 120 y se divide con el total de pacientes \n",
    "print(\"P(fbs \"+ paciente[3] +\") = \"+str(prob_presion))                         #Obteniendo asi la probabilidad de que un paciente tenga fbs <= 120\n",
    "\n",
    "prob_B = prob_sexo * prob_edad * prob_dolor * prob_presion                     #Variable para guardar la constante de normalizacion\n",
    "print(prob_B)"
   ]
  },
  {
   "cell_type": "markdown",
   "metadata": {},
   "source": [
    " - Utilizando solo las personas del hospital 1, calcule la probabilidad condicional de cada carac-ter ́ısticaxisea igual a la del paciente dado que sufri ́o un ataque"
   ]
  },
  {
   "cell_type": "code",
   "execution_count": 16,
   "metadata": {},
   "outputs": [
    {
     "name": "stdout",
     "output_type": "stream",
     "text": [
      "P(sexo = f|infarto) = 0.4339622641509434\n",
      "P(edad = 40's|infarto) = 0.20754716981132076\n",
      "P(dolor = atypical angina|infarto) = 0.2641509433962264\n",
      "P(presion <=120|infarto) = 0.9056603773584906\n",
      "0.021546975399852054\n"
     ]
    }
   ],
   "source": [
    "cantInfarto1 = len(hospital1[(hospital1[\"target\"] == 1)])\n",
    "\n",
    "prob_sexo_target1 = len(sexo[sexo[\"target\"] == 1]) / cantInfarto1\n",
    "print(\"P(sexo = \"+ paciente[0] +\"|infarto) = \"+str(prob_sexo_target1))\n",
    "\n",
    "prob_edad_target1 = len(edad[edad[\"target\"] == 1]) / cantInfarto1\n",
    "print(\"P(edad = \"+ paciente[1] +\"|infarto) = \"+str(prob_edad_target1))\n",
    "\n",
    "prob_dolor_target1 = len(dolor[dolor[\"target\"] == 1]) / cantInfarto1\n",
    "print(\"P(dolor = \"+ paciente[2] +\"|infarto) = \"+str(prob_dolor_target1))\n",
    "\n",
    "prob_presion_target1 = len(presion[presion[\"target\"] == 1]) / cantInfarto1\n",
    "print(\"P(presion \"+ paciente[3] +\"|infarto) = \"+str(prob_presion_target1))\n",
    "\n",
    "prob_B_A = prob_sexo_target1 * prob_edad_target1 * prob_dolor_target1 * prob_presion_target1\n",
    "print(prob_B_A)"
   ]
  },
  {
   "cell_type": "markdown",
   "metadata": {},
   "source": [
    " - Utilice sus resultados para evaluar la expresi ́on denaive bayesy obtener su posteriori, ¿Cu ́al esla probabilidad de sufrir un ataque seg ́un la primera evidencia (hospital 1)?"
   ]
  },
  {
   "cell_type": "code",
   "execution_count": 17,
   "metadata": {},
   "outputs": [
    {
     "name": "stdout",
     "output_type": "stream",
     "text": [
      "1.2227291419609478\n"
     ]
    }
   ],
   "source": [
    "prob_A_B = prob_A * prob_B_A / prob_B\n",
    "print(prob_A_B)"
   ]
  },
  {
   "cell_type": "markdown",
   "metadata": {},
   "source": [
    "### Pregunta 3\n",
    "\n",
    "Utilizando la probabilidad obtenida como nueva priori, iterativamente actualice su priori calculando suposteriori usando las personas de cada hospital. Muestre con un gr ́afico como cambia la probabilidadcada vez que utiliza nuevos datos. ¿Cu ́al es su probabilidad final?"
   ]
  },
  {
   "cell_type": "code",
   "execution_count": 18,
   "metadata": {},
   "outputs": [
    {
     "data": {
      "text/plain": [
       "Text(0.5, 0, 'Cantidad de Hospitales')"
      ]
     },
     "execution_count": 18,
     "metadata": {},
     "output_type": "execute_result"
    },
    {
     "data": {
      "image/png": "[encoded data removed]",
      "text/plain": [
       "<Figure size 432x288 with 1 Axes>"
      ]
     },
     "metadata": {},
     "output_type": "display_data"
    }
   ],
   "source": [
    "probHospitales=[]\n",
    "for i in [1,2,3]:\n",
    "    \n",
    "    hospital = dataset[dataset[\"hospital\"] == i]                             \n",
    "    sexo = hospital[hospital[\"sex\"]  == paciente[0]]   \n",
    "    edad = hospital[hospital[\"age_range\"]  == paciente[1]]\n",
    "    dolor = hospital[hospital[\"cp\"]  == paciente[2]]  \n",
    "    presion = hospital[hospital[\"fbs\"]  == paciente[3]]\n",
    "\n",
    "    prob_sexo = len(sexo) / len(hospital)          \n",
    "    prob_edad = len(edad) / len(hospital)                                         #Se toma la cantidad de pacientes con edad = 40, y se divide con el total de pacientes\n",
    "    prob_dolor = len(dolor) / len(hospital)                                       #Se toma el total de personas con cp = atypical angina y se divide con el total de pacientes \n",
    "    prob_presion = len(presion) / len(hospital)\n",
    "    \n",
    "    prob_B = prob_sexo * prob_edad * prob_dolor * prob_presion                    #Variable para guardar la constante de normalizacion\n",
    "\n",
    "    cantInfarto = len(hospital[(hospital[\"target\"] == 1)])\n",
    "\n",
    "    prob_sexo_target1 = len(sexo[sexo[\"target\"] == 1]) / cantInfarto\n",
    "    prob_edad_target1 = len(edad[edad[\"target\"] == 1]) / cantInfarto\n",
    "    prob_dolor_target1 = len(dolor[dolor[\"target\"] == 1]) / cantInfarto\n",
    "    prob_presion_target1 = len(presion[presion[\"target\"] == 1]) / cantInfarto\n",
    "    prob_B_A = prob_sexo_target1 * prob_edad_target1 * prob_dolor_target1 * prob_presion_target1\n",
    "\n",
    "    prob_A_B = prob_A * prob_B_A / prob_B\n",
    "    probHospitales.append(prob_A_B)\n",
    "    prob_A = prob_A_B\n",
    "\n",
    "plt.plot([1,2,3],probHospitales)\n",
    "plt.ylabel(\"Probabilidad\")\n",
    "plt.xlabel(\"Cantidad de Hospitales\")"
   ]
  },
  {
   "cell_type": "markdown",
   "metadata": {},
   "source": [
    "### Pregunta 4\n",
    "\n",
    "Utilizando  su  priori  inicial,  calcule  nuevamente  su  posteriori  utilizando  todo  el  dataset  (todos  loshospitales juntos). ¿Es diferente la probabilidad obtenida? ¿A que se debe su resultado?"
   ]
  },
  {
   "cell_type": "code",
   "execution_count": 19,
   "metadata": {},
   "outputs": [
    {
     "name": "stdout",
     "output_type": "stream",
     "text": [
      "1.4556511739536437\n"
     ]
    }
   ],
   "source": [
    "prob_A = prob_infarto\n",
    "hospital = dataset                          \n",
    "sexo = hospital[hospital[\"sex\"]  == paciente[0]]   \n",
    "edad = hospital[hospital[\"age_range\"]  == paciente[1]]\n",
    "dolor = hospital[hospital[\"cp\"]  == paciente[2]]  \n",
    "presion = hospital[hospital[\"fbs\"]  == paciente[3]]\n",
    "\n",
    "prob_sexo = len(sexo) / len(hospital)          \n",
    "prob_edad = len(edad) / len(hospital)                                         \n",
    "prob_dolor = len(dolor) / len(hospital)                                       \n",
    "prob_presion = len(presion) / len(hospital)\n",
    "\n",
    "prob_B = prob_sexo * prob_edad * prob_dolor * prob_presion                     \n",
    "\n",
    "cantInfarto = len(hospital[(hospital[\"target\"] == 1)])\n",
    "\n",
    "prob_sexo_target1 = len(sexo[sexo[\"target\"] == 1]) / cantInfarto\n",
    "prob_edad_target1 = len(edad[edad[\"target\"] == 1]) / cantInfarto\n",
    "prob_dolor_target1 = len(dolor[dolor[\"target\"] == 1]) / cantInfarto\n",
    "prob_presion_target1 = len(presion[presion[\"target\"] == 1]) / cantInfarto\n",
    "prob_B_A = prob_sexo_target1 * prob_edad_target1 * prob_dolor_target1 * prob_presion_target1\n",
    "\n",
    "prob_A_B = prob_A * prob_B_A / prob_B\n",
    "print(prob_A_B)"
   ]
  },
  {
   "cell_type": "markdown",
   "metadata": {},
   "source": [
    "Es diferente, por que en el primer caso se reemplaza la probabilidad inicial en cada iteracion,  mejorando así el supuesto en cada iteracion, mientras que en el segundo caso el supuesto inicial es totalmente arbitrario."
   ]
  }
 ],
 "metadata": {
  "kernelspec": {
   "display_name": "Python 3",
   "language": "python",
   "name": "python3"
  },
  "language_info": {
   "codemirror_mode": {
    "name": "ipython",
    "version": 3
   },
   "file_extension": ".py",
   "mimetype": "text/x-python",
   "name": "python",
   "nbconvert_exporter": "python",
   "pygments_lexer": "ipython3",
   "version": "3.5.2"
  }
 },
 "nbformat": 4,
 "nbformat_minor": 2
}
