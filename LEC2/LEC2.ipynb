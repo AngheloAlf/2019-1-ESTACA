{
 "cells": [
  {
   "cell_type": "markdown",
   "metadata": {},
   "source": [
    "# Laboratorio Estadística Computacional\n",
    "\n",
    "    - Pablo Mera K. 201773028-5\n",
    "    - Paula Pérez M. 201603022-0\n",
    "    - Anghelo Carvajal C. 201473062-4"
   ]
  },
  {
   "cell_type": "code",
   "execution_count": 1,
   "metadata": {},
   "outputs": [],
   "source": [
    "import numpy as np\n",
    "import seaborn as sns\n",
    "import pandas as pd\n",
    "import matplotlib.pyplot as plt"
   ]
  },
  {
   "cell_type": "markdown",
   "metadata": {},
   "source": [
    "### Actividad 1 Demostración experimental"
   ]
  },
  {
   "cell_type": "markdown",
   "metadata": {},
   "source": [
    "### Pregunta 1:"
   ]
  },
  {
   "cell_type": "code",
   "execution_count": 2,
   "metadata": {},
   "outputs": [
    {
     "name": "stdout",
     "output_type": "stream",
     "text": [
      "0.0\n",
      "0.0\n",
      "0.029\n",
      "0.0284\n",
      "0.02727\n",
      "0.027861\n",
      "0.0278242\n",
      "0.02778729\n"
     ]
    },
    {
     "data": {
      "image/png": "[encoded data removed]",
      "text/plain": [
       "<Figure size 432x288 with 1 Axes>"
      ]
     },
     "metadata": {},
     "output_type": "display_data"
    },
    {
     "data": {
      "image/png": "[encoded data removed]",
      "text/plain": [
       "<Figure size 432x288 with 1 Axes>"
      ]
     },
     "metadata": {},
     "output_type": "display_data"
    }
   ],
   "source": [
    "dado = [1,2,3,4,5,6]                                                            #Lista con los numeros de un dado\n",
    "probexp= []                                                                     #Lista vacia para guardar las probabilidades\n",
    "error=[]                                                                        #Lista vacia para guardar los errores                                              \n",
    "rep = [1,2,3,4,5,6,7,8]                                                           #Lista Con los ordenes de magnitud para efectuar la simulacion\n",
    "\n",
    "for n in rep:                                                                   #Iteracion Para cada orden de magnitud\n",
    "    contador=0                                                                  #Contador que registra los pares de 6\n",
    "    for i in range(10**n):                                                      #Iteracion por lanzamiento de dados\n",
    "        aux=np.random.choice(dado,2)                                            #Escojer un numero al azar de la lista dados, 2 veces\n",
    "        if list(aux) == [6,6]:                                                  #Si es par de 6, sumar 1 al contador\n",
    "            contador+=1\n",
    "    print(float(contador)/10**n)                                                \n",
    "    probexp.append(float(contador)/10**n)                                       #Agregar resultado de la frecuencia\n",
    "    error.append(abs(float(contador)/10**n - 1/36))                             #Agregar resultado de el error\n",
    " \n",
    "plt.plot(rep,probexp,'bo')                                                      #Graficar las frecuencias\n",
    "plt.show()\n",
    "plt.plot(rep,error,'bo')                                                        #Graficar los errores\n",
    "plt.show()\n",
    "\n"
   ]
  },
  {
   "cell_type": "markdown",
   "metadata": {},
   "source": [
    "### Pregunta 2:\n",
    " - Si se tiene una infinita cantidad de muestras es posible generar una tendencia que sea altamente representativa para un suceso determinado.\n",
    " - Sería muy poco probable que no apareciera ningún par de 6 en toda la simulación, pero si esto sucediera habría una diferencia entre la probabilidad teórica y la experimental, lo que generaría una alteración en la distribución de los datos.\n",
    " - La probabilidad teórica y experimental son muy cercanas, por lo tanto, como el error es mínimo en este caso el supuesto se cumple."
   ]
  },
  {
   "cell_type": "markdown",
   "metadata": {},
   "source": [
    "### Pregunta 3:"
   ]
  },
  {
   "cell_type": "markdown",
   "metadata": {},
   "source": [
    "#### Parte 1:"
   ]
  },
  {
   "cell_type": "code",
   "execution_count": 3,
   "metadata": {},
   "outputs": [
    {
     "name": "stdout",
     "output_type": "stream",
     "text": [
      "0.318944\n",
      "0.24371\n",
      "0.088235\n"
     ]
    }
   ],
   "source": [
    "cont = 0                                                                        #Contador para las iteraciones que cumplen las condiciones\n",
    "for j in range(10**6):                                                          #iterar un millon de veces, para asegurar un buen resultado\n",
    "    aux=np.random.choice(dado,5)                                                #Escojer un numero al azar de la lista dados, 5 veces\n",
    "    caux1 = 0                                                                   #Variable para guardar cantidad de pares \n",
    "    caux2 = 0                                                                   #Variable para ver si hay escala\n",
    "    for i in list(np.bincount(aux)):                                            #Se aplica bincount a la lista, y se itera en el resultado\n",
    "        if i == 2:                                                              #si hay un par se suma uno al contador de pares\n",
    "            caux1+=1\n",
    "        elif i == 3:                                                            #si hay un trio se marca la variable de trios\n",
    "            caux2+=1\n",
    "        elif i == 4:                                                            #Si hay 4 iguales, se suma 2 al contador de pares\n",
    "            caux=2\n",
    "        elif i == 5:                                                            #Si hay 5 iguales, se marca el trio y se suma un par\n",
    "            caux1=1\n",
    "            caux2=1\n",
    "        \n",
    "    if (caux1 == caux2 == 1)or(caux1 == 2)or((caux1 == caux2 == 0)\n",
    "            and (not(1 in aux) or not(6 in aux))) :                             #Luego se evaluan las condiciones, par y trio, 2 pares, y escala donde ambos son 0(Se concidera escala que da vuelta)\n",
    "       cont+=1\n",
    "       \n",
    "print (cont/10**6)"
   ]
  },
  {
   "cell_type": "markdown",
   "metadata": {},
   "source": [
    "#### Parte 2 y 3:"
   ]
  },
  {
   "cell_type": "code",
   "execution_count": null,
   "metadata": {},
   "outputs": [],
   "source": [
    "primos = [11,13,17,19,23,29,31,37,41,43,47,53,59]                               #Lista con los primos entre 10 y 60\n",
    "perfect = [16,25,36,49]                                                         #Lista con los cuadrados perfectos entre 10 y 60\n",
    "cont1 = 0                                                                       #Contador para primos\n",
    "cont2 = 0                                                                       #Contador para cuadrados perfectos\n",
    "for i in range(10**6):\n",
    "    aux=np.random.choice(dado,10)                                               #Escojer un numero al azar de la lista dados, 10 veces\n",
    "    if sum(aux) in primos:                                                      #aumentar cont1 si la suma de los dados escojidos se encuntra en la lista primos \n",
    "        cont1+=1    \n",
    "    if sum(aux) in perfect:                                                     #aumentar cont2 si la suma de los dados escojidos se encuntra en la lista de cuadrados perfectos\n",
    "        cont2+=1\n",
    "print (cont1/10**6)\n",
    "print (cont2/10**6)"
   ]
  },
  {
   "cell_type": "markdown",
   "metadata": {},
   "source": [
    "### Actividad 2 - Heart Disease UCI "
   ]
  },
  {
   "cell_type": "markdown",
   "metadata": {},
   "source": [
    "### Pregunta 1:\n",
    "\n",
    "\n",
    "$P(A \\cap B)= P(A)P(B|A)$\n",
    "\n",
    "$P(A \\cap B)= P(B)P(A|B)$\n",
    "\n",
    "$P(B)P(A|B)=P(A)P(B|A)$\n",
    "\n",
    "$P(A|B)= \\frac{P(A)P(B|A)}{P(B)}$\n",
    "\n",
    "#### Demostración simlificación del teorema:\n",
    "\n",
    "$P(y)P(x_1,...,X_n|y)$\n",
    "\n",
    "$P(y)P(x_1|y)P(x_2,...,x_n|y, x_i)$\n",
    "\n",
    "$P(y)P(x_1|y)P(x_2|y, x_1) P(x_3,...,x_n|y, x_1, x_2)$\n",
    "\n",
    "##### Y así sucesivamente... luego por independencia:\n",
    "\n",
    "$P(x_2|y, x_1) = P(x_2|y)$\n",
    "\n",
    "\n",
    "##### Finalmente se llega a la expresión:\n",
    "\n",
    "$P(y)P(x_1|y)P(x_2|y)P(x_3|y)...P(x_n|y)$\n",
    "\n",
    "$P(y) \\Pi_{i=1}^{n} P(x_i|y)$\n",
    "\n",
    "##### Luego reemplazando en Bayes:\n",
    "\n",
    "$P(y|x_1,...,x_n) = P(y) \\Pi_{i=1}^{n} \\frac{P(x_i|y)}{P(x_1,..., x_n}$\n"
   ]
  },
  {
   "cell_type": "code",
   "execution_count": 4,
   "metadata": {},
   "outputs": [
    {
     "ename": "FileNotFoundError",
     "evalue": "[Errno 2] File b'LEC2_dataset.csv' does not exist: b'LEC2_dataset.csv'",
     "output_type": "error",
     "traceback": [
      "\u001b[0;31m---------------------------------------------------------------------------\u001b[0m",
      "\u001b[0;31mFileNotFoundError\u001b[0m                         Traceback (most recent call last)",
      "\u001b[0;32m<ipython-input-4-0b0dc93044d8>\u001b[0m in \u001b[0;36m<module>\u001b[0;34m\u001b[0m\n\u001b[0;32m----> 1\u001b[0;31m \u001b[0mdataset\u001b[0m \u001b[0;34m=\u001b[0m \u001b[0mpd\u001b[0m\u001b[0;34m.\u001b[0m\u001b[0mread_csv\u001b[0m\u001b[0;34m(\u001b[0m\u001b[0;34m\"LEC2_dataset.csv\"\u001b[0m\u001b[0;34m)\u001b[0m\u001b[0;34m\u001b[0m\u001b[0m\n\u001b[0m\u001b[1;32m      2\u001b[0m \u001b[0;34m\u001b[0m\u001b[0m\n",
      "\u001b[0;32m~/.local/lib/python3.5/site-packages/pandas/io/parsers.py\u001b[0m in \u001b[0;36mparser_f\u001b[0;34m(filepath_or_buffer, sep, delimiter, header, names, index_col, usecols, squeeze, prefix, mangle_dupe_cols, dtype, engine, converters, true_values, false_values, skipinitialspace, skiprows, skipfooter, nrows, na_values, keep_default_na, na_filter, verbose, skip_blank_lines, parse_dates, infer_datetime_format, keep_date_col, date_parser, dayfirst, iterator, chunksize, compression, thousands, decimal, lineterminator, quotechar, quoting, doublequote, escapechar, comment, encoding, dialect, tupleize_cols, error_bad_lines, warn_bad_lines, delim_whitespace, low_memory, memory_map, float_precision)\u001b[0m\n\u001b[1;32m    700\u001b[0m                     skip_blank_lines=skip_blank_lines)\n\u001b[1;32m    701\u001b[0m \u001b[0;34m\u001b[0m\u001b[0m\n\u001b[0;32m--> 702\u001b[0;31m         \u001b[0;32mreturn\u001b[0m \u001b[0m_read\u001b[0m\u001b[0;34m(\u001b[0m\u001b[0mfilepath_or_buffer\u001b[0m\u001b[0;34m,\u001b[0m \u001b[0mkwds\u001b[0m\u001b[0;34m)\u001b[0m\u001b[0;34m\u001b[0m\u001b[0m\n\u001b[0m\u001b[1;32m    703\u001b[0m \u001b[0;34m\u001b[0m\u001b[0m\n\u001b[1;32m    704\u001b[0m     \u001b[0mparser_f\u001b[0m\u001b[0;34m.\u001b[0m\u001b[0m__name__\u001b[0m \u001b[0;34m=\u001b[0m \u001b[0mname\u001b[0m\u001b[0;34m\u001b[0m\u001b[0m\n",
      "\u001b[0;32m~/.local/lib/python3.5/site-packages/pandas/io/parsers.py\u001b[0m in \u001b[0;36m_read\u001b[0;34m(filepath_or_buffer, kwds)\u001b[0m\n\u001b[1;32m    427\u001b[0m \u001b[0;34m\u001b[0m\u001b[0m\n\u001b[1;32m    428\u001b[0m     \u001b[0;31m# Create the parser.\u001b[0m\u001b[0;34m\u001b[0m\u001b[0;34m\u001b[0m\u001b[0m\n\u001b[0;32m--> 429\u001b[0;31m     \u001b[0mparser\u001b[0m \u001b[0;34m=\u001b[0m \u001b[0mTextFileReader\u001b[0m\u001b[0;34m(\u001b[0m\u001b[0mfilepath_or_buffer\u001b[0m\u001b[0;34m,\u001b[0m \u001b[0;34m**\u001b[0m\u001b[0mkwds\u001b[0m\u001b[0;34m)\u001b[0m\u001b[0;34m\u001b[0m\u001b[0m\n\u001b[0m\u001b[1;32m    430\u001b[0m \u001b[0;34m\u001b[0m\u001b[0m\n\u001b[1;32m    431\u001b[0m     \u001b[0;32mif\u001b[0m \u001b[0mchunksize\u001b[0m \u001b[0;32mor\u001b[0m \u001b[0miterator\u001b[0m\u001b[0;34m:\u001b[0m\u001b[0;34m\u001b[0m\u001b[0m\n",
      "\u001b[0;32m~/.local/lib/python3.5/site-packages/pandas/io/parsers.py\u001b[0m in \u001b[0;36m__init__\u001b[0;34m(self, f, engine, **kwds)\u001b[0m\n\u001b[1;32m    893\u001b[0m             \u001b[0mself\u001b[0m\u001b[0;34m.\u001b[0m\u001b[0moptions\u001b[0m\u001b[0;34m[\u001b[0m\u001b[0;34m'has_index_names'\u001b[0m\u001b[0;34m]\u001b[0m \u001b[0;34m=\u001b[0m \u001b[0mkwds\u001b[0m\u001b[0;34m[\u001b[0m\u001b[0;34m'has_index_names'\u001b[0m\u001b[0;34m]\u001b[0m\u001b[0;34m\u001b[0m\u001b[0m\n\u001b[1;32m    894\u001b[0m \u001b[0;34m\u001b[0m\u001b[0m\n\u001b[0;32m--> 895\u001b[0;31m         \u001b[0mself\u001b[0m\u001b[0;34m.\u001b[0m\u001b[0m_make_engine\u001b[0m\u001b[0;34m(\u001b[0m\u001b[0mself\u001b[0m\u001b[0;34m.\u001b[0m\u001b[0mengine\u001b[0m\u001b[0;34m)\u001b[0m\u001b[0;34m\u001b[0m\u001b[0m\n\u001b[0m\u001b[1;32m    896\u001b[0m \u001b[0;34m\u001b[0m\u001b[0m\n\u001b[1;32m    897\u001b[0m     \u001b[0;32mdef\u001b[0m \u001b[0mclose\u001b[0m\u001b[0;34m(\u001b[0m\u001b[0mself\u001b[0m\u001b[0;34m)\u001b[0m\u001b[0;34m:\u001b[0m\u001b[0;34m\u001b[0m\u001b[0m\n",
      "\u001b[0;32m~/.local/lib/python3.5/site-packages/pandas/io/parsers.py\u001b[0m in \u001b[0;36m_make_engine\u001b[0;34m(self, engine)\u001b[0m\n\u001b[1;32m   1120\u001b[0m     \u001b[0;32mdef\u001b[0m \u001b[0m_make_engine\u001b[0m\u001b[0;34m(\u001b[0m\u001b[0mself\u001b[0m\u001b[0;34m,\u001b[0m \u001b[0mengine\u001b[0m\u001b[0;34m=\u001b[0m\u001b[0;34m'c'\u001b[0m\u001b[0;34m)\u001b[0m\u001b[0;34m:\u001b[0m\u001b[0;34m\u001b[0m\u001b[0m\n\u001b[1;32m   1121\u001b[0m         \u001b[0;32mif\u001b[0m \u001b[0mengine\u001b[0m \u001b[0;34m==\u001b[0m \u001b[0;34m'c'\u001b[0m\u001b[0;34m:\u001b[0m\u001b[0;34m\u001b[0m\u001b[0m\n\u001b[0;32m-> 1122\u001b[0;31m             \u001b[0mself\u001b[0m\u001b[0;34m.\u001b[0m\u001b[0m_engine\u001b[0m \u001b[0;34m=\u001b[0m \u001b[0mCParserWrapper\u001b[0m\u001b[0;34m(\u001b[0m\u001b[0mself\u001b[0m\u001b[0;34m.\u001b[0m\u001b[0mf\u001b[0m\u001b[0;34m,\u001b[0m \u001b[0;34m**\u001b[0m\u001b[0mself\u001b[0m\u001b[0;34m.\u001b[0m\u001b[0moptions\u001b[0m\u001b[0;34m)\u001b[0m\u001b[0;34m\u001b[0m\u001b[0m\n\u001b[0m\u001b[1;32m   1123\u001b[0m         \u001b[0;32melse\u001b[0m\u001b[0;34m:\u001b[0m\u001b[0;34m\u001b[0m\u001b[0m\n\u001b[1;32m   1124\u001b[0m             \u001b[0;32mif\u001b[0m \u001b[0mengine\u001b[0m \u001b[0;34m==\u001b[0m \u001b[0;34m'python'\u001b[0m\u001b[0;34m:\u001b[0m\u001b[0;34m\u001b[0m\u001b[0m\n",
      "\u001b[0;32m~/.local/lib/python3.5/site-packages/pandas/io/parsers.py\u001b[0m in \u001b[0;36m__init__\u001b[0;34m(self, src, **kwds)\u001b[0m\n\u001b[1;32m   1851\u001b[0m         \u001b[0mkwds\u001b[0m\u001b[0;34m[\u001b[0m\u001b[0;34m'usecols'\u001b[0m\u001b[0;34m]\u001b[0m \u001b[0;34m=\u001b[0m \u001b[0mself\u001b[0m\u001b[0;34m.\u001b[0m\u001b[0musecols\u001b[0m\u001b[0;34m\u001b[0m\u001b[0m\n\u001b[1;32m   1852\u001b[0m \u001b[0;34m\u001b[0m\u001b[0m\n\u001b[0;32m-> 1853\u001b[0;31m         \u001b[0mself\u001b[0m\u001b[0;34m.\u001b[0m\u001b[0m_reader\u001b[0m \u001b[0;34m=\u001b[0m \u001b[0mparsers\u001b[0m\u001b[0;34m.\u001b[0m\u001b[0mTextReader\u001b[0m\u001b[0;34m(\u001b[0m\u001b[0msrc\u001b[0m\u001b[0;34m,\u001b[0m \u001b[0;34m**\u001b[0m\u001b[0mkwds\u001b[0m\u001b[0;34m)\u001b[0m\u001b[0;34m\u001b[0m\u001b[0m\n\u001b[0m\u001b[1;32m   1854\u001b[0m         \u001b[0mself\u001b[0m\u001b[0;34m.\u001b[0m\u001b[0munnamed_cols\u001b[0m \u001b[0;34m=\u001b[0m \u001b[0mself\u001b[0m\u001b[0;34m.\u001b[0m\u001b[0m_reader\u001b[0m\u001b[0;34m.\u001b[0m\u001b[0munnamed_cols\u001b[0m\u001b[0;34m\u001b[0m\u001b[0m\n\u001b[1;32m   1855\u001b[0m \u001b[0;34m\u001b[0m\u001b[0m\n",
      "\u001b[0;32mpandas/_libs/parsers.pyx\u001b[0m in \u001b[0;36mpandas._libs.parsers.TextReader.__cinit__\u001b[0;34m()\u001b[0m\n",
      "\u001b[0;32mpandas/_libs/parsers.pyx\u001b[0m in \u001b[0;36mpandas._libs.parsers.TextReader._setup_parser_source\u001b[0;34m()\u001b[0m\n",
      "\u001b[0;31mFileNotFoundError\u001b[0m: [Errno 2] File b'LEC2_dataset.csv' does not exist: b'LEC2_dataset.csv'"
     ]
    }
   ],
   "source": [
    "dataset = pd.read_csv(\"LEC2_dataset.csv\")\n",
    "\n"
   ]
  },
  {
   "cell_type": "code",
   "execution_count": null,
   "metadata": {},
   "outputs": [],
   "source": []
  }
 ],
 "metadata": {
  "kernelspec": {
   "display_name": "Python 3",
   "language": "python",
   "name": "python3"
  },
  "language_info": {
   "codemirror_mode": {
    "name": "ipython",
    "version": 3
   },
   "file_extension": ".py",
   "mimetype": "text/x-python",
   "name": "python",
   "nbconvert_exporter": "python",
   "pygments_lexer": "ipython3",
   "version": "3.7.3"
  }
 },
 "nbformat": 4,
 "nbformat_minor": 2
}
